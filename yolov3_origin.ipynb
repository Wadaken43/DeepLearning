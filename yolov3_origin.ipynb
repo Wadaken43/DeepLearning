{
  "nbformat": 4,
  "nbformat_minor": 0,
  "metadata": {
    "colab": {
      "provenance": [],
      "authorship_tag": "ABX9TyPVL5J9poBIOtkQHbcvnaVc",
      "include_colab_link": true
    },
    "kernelspec": {
      "name": "python3",
      "display_name": "Python 3"
    },
    "language_info": {
      "name": "python"
    }
  },
  "cells": [
    {
      "cell_type": "markdown",
      "metadata": {
        "id": "view-in-github",
        "colab_type": "text"
      },
      "source": [
        "<a href=\"https://colab.research.google.com/github/Wadaken43/DeepLearning/blob/main/yolov3_origin.ipynb\" target=\"_parent\"><img src=\"https://colab.research.google.com/assets/colab-badge.svg\" alt=\"Open In Colab\"/></a>"
      ]
    },
    {
      "cell_type": "code",
      "source": [
        "from torch.nn.modules.batchnorm import BatchNorm2d\n",
        "import torch\n",
        "import torch.nn as nn\n",
        "import torch.nn.functional as F"
      ],
      "metadata": {
        "id": "bDHrTxNIK8yk"
      },
      "execution_count": 7,
      "outputs": []
    },
    {
      "cell_type": "markdown",
      "source": [
        "ネットワークの構築"
      ],
      "metadata": {
        "id": "vHGtLEZ6TYkE"
      }
    },
    {
      "cell_type": "code",
      "source": [
        "#残差ブロック\n",
        "class ResidualBlock(nn.Module):\n",
        "    def __init__(self, in_channels):\n",
        "        super(ResidualBlock, self).__init__()\n",
        "\n",
        "        self.conv1 = nn.Conv2d(in_channels, in_channels // 2, kernel_size=1, stride=1, padding=0, bias=False)\n",
        "        self.bn1 = nn.BatchNorm2d(in_channels // 2)\n",
        "        self.conv2 = nn.Conv2d(in_channels // 2, in_channels, kernel_size=3, stride=1, padding=1, bias=False)\n",
        "        self.bn2 = nn.BatchNorm2d(in_channels)\n",
        "\n",
        "    def forward(self, x):\n",
        "        residual = x\n",
        "        out = self.conv1(x)\n",
        "        out = self.bn1(out)\n",
        "        out = F.leaky_relu(out, inplace=True)\n",
        "        out = self.conv2(out)\n",
        "        out = self.bn2(out)\n",
        "        out = F.leaky_relu(out, inplace=True)\n",
        "        out += residual\n",
        "        return out\n",
        "\n",
        "\n",
        " #残差ブロック\n",
        "  #   def MakeResidualBlock(self,fn):\n",
        "  #       block = nn.Sequential(nn.Conv2d(fn , int(fn/2) , 1 , 1), \n",
        "  #                         nn.BatchNorm2d(int(fn/2)),\n",
        "  #                         nn.LeakyReLU(),\n",
        "  #                         nn.Conv2d(int(fn/2) , fn , 3 , 1 ,  1),\n",
        "  #                         nn.BatchNorm2d(fn),\n",
        "  #                         nn.LeakyReLU(),\n",
        "  #  )\n"
      ],
      "metadata": {
        "id": "of28zyTQDlXA"
      },
      "execution_count": 11,
      "outputs": []
    },
    {
      "cell_type": "code",
      "execution_count": 21,
      "metadata": {
        "id": "7-IHnQXpBxJJ"
      },
      "outputs": [],
      "source": [
        "class YOLOv3(nn.Module):\n",
        " def __init__(self,in_channel=3, class_n = 80):\n",
        "   super(YOLOv3 , self).__init__()\n",
        "   self.class_n = class_n\n",
        "\n",
        "   self.first_block = nn.Sequential(\n",
        "       nn.conv2d(in_channel, 32, kernel_size=3, stride=1, padding=1),\n",
        "       nn.BatchNorm2d(32),\n",
        "       nn.LeakyReLU(negative_slope=0.1,inplace=True),\n",
        "       nn.conv2d(32, 64, 3, 2, 1),\n",
        "       nn.BatchNorm2d(64),\n",
        "       nn.LeakyReLU(0.1, True),   \n",
        "   )\n",
        "   \n",
        "   self.res_block1 = ResidualBlock(64)\n",
        "   self.conv1 = nn.conv2d(64, 128, 3, 2, 1)\n",
        "   \n",
        "   self.res_block2 = nn.Sequential(\n",
        "       ResidualBlock(128),\n",
        "       ResidualBlock(128),\n",
        "   )\n",
        "   self.conv2 = nn.conv2d(128, 256, 3, 2, 1)\n",
        "   \n",
        "   self.res_block3 = nn.Sequential(\n",
        "       ResidualBlock(256),\n",
        "       ResidualBlock(256),\n",
        "       ResidualBlock(256),\n",
        "       ResidualBlock(256),\n",
        "       ResidualBlock(256),\n",
        "       ResidualBlock(256),\n",
        "       ResidualBlock(256),\n",
        "       ResidualBlock(256),\n",
        "       ResidualBlock(256),\n",
        "   )       \n",
        "   self.conv3 = nn.conv2d(256, 512, 3, 2, 1)\n",
        "\n",
        "   self.res_block4 = nn.Sequential(\n",
        "       ResidualBlock(512),\n",
        "       ResidualBlock(512),\n",
        "       ResidualBlock(512),\n",
        "       ResidualBlock(512),\n",
        "       ResidualBlock(512),\n",
        "       ResidualBlock(512),\n",
        "       ResidualBlock(512),\n",
        "       ResidualBlock(512),\n",
        "   )   \n",
        "   self.conv4 = nn.conv2d(512, 1024, 3, 2, 1)\n",
        "\n",
        "   self.res_block5 = nn.Sequential(\n",
        "       ResidualBlock(1024),\n",
        "       ResidualBlock(1024),\n",
        "       ResidualBlock(1024),\n",
        "       ResidualBlock(1024),\n",
        "   )  \n",
        "\n",
        "   self.Conv_Block = nn.Sequential(\n",
        "       nn.Conv2d(1024, 512, 1, 1, 1),\n",
        "       nn.BatchNorm2d(512),\n",
        "       nn.LeakyReLU(negative_slope=0.1,inplace=True),\n",
        "       nn.Conv2d(512, 1024, 3, 1, 1),\n",
        "       nn.BatchNorm2d(1024),\n",
        "       nn.LeakyReLU(negative_slope=0.1,inplace=True),\n",
        "  \n",
        "       nn.Conv2d(1024, 512, 1, 1, 1),\n",
        "       nn.BatchNorm2d(512),\n",
        "       nn.LeakyReLU(negative_slope=0.1,inplace=True),\n",
        "       nn.Conv2d(512, 1024, 3, 1, 1),\n",
        "       nn.BatchNorm2d(1024),\n",
        "       nn.LeakyReLU(negative_slope=0.1,inplace=True),\n",
        "\n",
        "       nn.Conv2d(1024, 512, 1, 1, 1),\n",
        "       nn.BatchNorm2d(512),\n",
        "       nn.LeakyReLU(negative_slope=0.1,inplace=True),\n",
        "       nn.Conv2d(512, 1024, 3, 1, 1),\n",
        "       nn.BatchNorm2d(1024),\n",
        "       nn.LeakyReLU(negative_slope=0.1,inplace=True),\n",
        "   )\n",
        "   \n",
        "\n",
        "   #Global Average Poolingとして用いる。 (darknetのネットワーク)\n",
        "   #self.avgpool = nn.AdaptiveAvgPool2d(output_size=(1,1))\n",
        "\n",
        " def forward(self, x):\n",
        "   x = self.first_block(x)\n",
        "\n",
        "   x = self.res_block1(x)\n",
        "   x = self.conv1(x)\n",
        "\n",
        "   x = self.res_block2(x)\n",
        "   x = self.conv2(x)\n",
        "\n",
        "   x = self.res_block3(x)\n",
        "   scale1 = x\n",
        "   x = self.conv3(x)\n",
        "\n",
        "   x = self.res_block4(x)\n",
        "   scale2 = x\n",
        "   x = self.conv4(x)\n",
        "\n",
        "   x = self.res_block5(x)\n",
        "   x = self.Conv_Block(x)\n",
        "  #  for layer in self.conv_block:\n",
        "  #    x = layer(x)\n",
        "   scale2_2 = x\n",
        "   scale3 = x\n",
        "\n",
        "\n",
        "   return x\n",
        "\n",
        "  \n",
        "\n",
        "\n",
        "\n",
        "\n"
      ]
    },
    {
      "cell_type": "code",
      "source": [],
      "metadata": {
        "id": "sZDPr1iNq14C"
      },
      "execution_count": null,
      "outputs": []
    }
  ]
}