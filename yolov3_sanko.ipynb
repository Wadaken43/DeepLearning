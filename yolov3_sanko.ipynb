{
  "nbformat": 4,
  "nbformat_minor": 0,
  "metadata": {
    "colab": {
      "provenance": [],
      "authorship_tag": "ABX9TyN6C5J6FFl9iiwZPVksOdjB",
      "include_colab_link": true
    },
    "kernelspec": {
      "name": "python3",
      "display_name": "Python 3"
    },
    "language_info": {
      "name": "python"
    },
    "accelerator": "GPU",
    "gpuClass": "standard"
  },
  "cells": [
    {
      "cell_type": "markdown",
      "metadata": {
        "id": "view-in-github",
        "colab_type": "text"
      },
      "source": [
        "<a href=\"https://colab.research.google.com/github/Wadaken43/DeepLearning/blob/main/yolov3_sanko.ipynb\" target=\"_parent\"><img src=\"https://colab.research.google.com/assets/colab-badge.svg\" alt=\"Open In Colab\"/></a>"
      ]
    },
    {
      "cell_type": "code",
      "source": [
        "#google driveにマウント\n",
        "from google.colab import drive\n",
        "drive.mount('/content/gdrive')"
      ],
      "metadata": {
        "colab": {
          "base_uri": "https://localhost:8080/"
        },
        "id": "XC7XH3_vtB6E",
        "outputId": "78a5cc42-dd11-4bde-b62b-63e2bbc90653"
      },
      "execution_count": null,
      "outputs": [
        {
          "output_type": "stream",
          "name": "stdout",
          "text": [
            "Mounted at /content/gdrive\n"
          ]
        }
      ]
    },
    {
      "cell_type": "code",
      "source": [
        "cd /content/gdrive/MyDrive/Colab Notebooks/deeplearning"
      ],
      "metadata": {
        "colab": {
          "base_uri": "https://localhost:8080/"
        },
        "id": "VyEvFrq4tiur",
        "outputId": "c3051709-7ae7-4946-e0ff-2e84956e474c"
      },
      "execution_count": null,
      "outputs": [
        {
          "output_type": "stream",
          "name": "stdout",
          "text": [
            "/content/gdrive/MyDrive/Colab Notebooks/deeplearning\n"
          ]
        }
      ]
    },
    {
      "cell_type": "markdown",
      "source": [
        "モデルのアーキテクチャ"
      ],
      "metadata": {
        "id": "BOv0U_OjKiwR"
      }
    },
    {
      "cell_type": "code",
      "source": [
        "from torch.nn.modules.batchnorm import BatchNorm2d\n",
        "import torch\n",
        "import torch.nn as nn\n",
        "import torch.nn.functional as F\n",
        "\n",
        "class YOLOv3(nn.Module):\n",
        " def __init__(self,class_n = 80):\n",
        "   super(YOLOv3 , self).__init__()\n",
        "   self.class_n = class_n\n",
        "   self.first_block = nn.Sequential(\n",
        "                                     nn.Conv2d(3 , 32 , 3 , 1 , 1),\n",
        "                                     nn.BatchNorm2d(32),\n",
        "                                     nn.LeakyReLU(),\n",
        "                                     nn.Conv2d(32 , 64 , 3 , 2 , 1),\n",
        "                                     nn.BatchNorm2d(64),\n",
        "                                     nn.LeakyReLU(),\n",
        "                                   )\n",
        "   self.residual_block_1 = self.MakeResidualBlock(64)\n",
        "   self.conv_1 = nn.Conv2d(64 , 128  , 3 , 2 , 1)\n",
        "\n",
        "   self.residual_block_2 = nn.Sequential(self.MakeResidualBlock(128),self.MakeResidualBlock(128))\n",
        "   self.conv_2 = nn.Conv2d(128 , 256  , 3 , 2 , 1)\n",
        "       \n",
        "   self.residual_block_3 = nn.Sequential(self.MakeResidualBlock(256),self.MakeResidualBlock(256),self.MakeResidualBlock(256),self.MakeResidualBlock(256),self.MakeResidualBlock(256),self.MakeResidualBlock(256),self.MakeResidualBlock(256),self.MakeResidualBlock(256))\n",
        "   self.conv_3 = nn.Conv2d(256 , 512  , 3 , 2 , 1)\n",
        "\n",
        "   self.residual_block_4 = nn.Sequential(self.MakeResidualBlock(512),self.MakeResidualBlock(512),self.MakeResidualBlock(512),self.MakeResidualBlock(512),self.MakeResidualBlock(512),self.MakeResidualBlock(512),self.MakeResidualBlock(512),self.MakeResidualBlock(512))\n",
        "   self.conv_4 = nn.Conv2d(512 , 1024  , 3 , 2 , 1)\n",
        "   \n",
        "   self.residual_block_5 = nn.Sequential(self.MakeResidualBlock(1024),self.MakeResidualBlock(1024),self.MakeResidualBlock(1024),self.MakeResidualBlock(1024),)\n",
        "   self.conv_block = nn.Sequential(self.MakeResidualBlock(1024),self.MakeResidualBlock(1024),self.MakeResidualBlock(1024),self.MakeResidualBlock(1024),)\n",
        "   \n",
        "   \n",
        "   self.scale3_output = nn.Conv2d(1024 , (3 * (4 + 1 +self.class_n)) , 1 , 1 )\n",
        "   self.scale2_upsample = nn.Conv2d(1024 , 256 , 1 , 1 )\n",
        "\n",
        "   self.scale2_convblock = nn.Sequential(nn.Sequential(nn.Conv2d(768 , 256 , 1 , 1), \n",
        "                          nn.BatchNorm2d(256),\n",
        "                          nn.LeakyReLU(),\n",
        "                          nn.Conv2d(256 , 512 , 3 , 1 ,  1),\n",
        "                          nn.BatchNorm2d(512),\n",
        "                          nn.LeakyReLU(),\n",
        "                         ),self.MakeResidualBlock(512),self.MakeResidualBlock(512),)\n",
        "   \n",
        "   self.scale2_output = nn.Conv2d(512 , (3 * (4 + 1 +self.class_n)) , 1 , 1 )\n",
        "   \n",
        "   self.scale1_upsample = nn.Conv2d(512 , 128 , 1 , 1 )\n",
        "\n",
        "   self.scale1_convblock = nn.Sequential(nn.Sequential(nn.Conv2d(384 , 128 , 1 , 1), \n",
        "                          nn.BatchNorm2d(128),\n",
        "                          nn.LeakyReLU(),\n",
        "                          nn.Conv2d(128 , 256 , 3 , 1 ,  1),\n",
        "                          nn.BatchNorm2d(256),\n",
        "                          nn.LeakyReLU(),\n",
        "                         ),self.MakeResidualBlock(256),self.MakeResidualBlock(256),)\n",
        "\n",
        "   self.scale1_output =  nn.Conv2d(256 , (3 * (4 + 1 +self.class_n)) , 1 , 1 )\n",
        "\n",
        "   self.upsample = nn.Upsample(scale_factor = 2)\n",
        "\n",
        " def MakeResidualBlock(self,fn):\n",
        "   block = nn.Sequential(nn.Conv2d(fn , int(fn/2) , 1 , 1), \n",
        "                          nn.BatchNorm2d(int(fn/2)),\n",
        "                          nn.LeakyReLU(),\n",
        "                          nn.Conv2d(int(fn/2) , fn , 3 , 1 ,  1),\n",
        "                          nn.BatchNorm2d(fn),\n",
        "                          nn.LeakyReLU(),\n",
        "                         )\n",
        "   return block\n",
        " \n",
        " def forward(self,x):\n",
        "   x = self.first_block(x)\n",
        "   x_res = self.residual_block_1(x)\n",
        "   x = x + x_res\n",
        "   x = self.conv_1(x)\n",
        "\n",
        "   for layer in self.residual_block_2:\n",
        "     x_res = layer(x)\n",
        "     x = x + x_res\n",
        "   x = self.conv_2(x)\n",
        "   \n",
        "   for layer in self.residual_block_3:\n",
        "     x_res = layer(x)\n",
        "     x = x + x_res\n",
        "   x1 = x\n",
        "   x = self.conv_3(x)\n",
        "\n",
        "   for layer in self.residual_block_4:\n",
        "     x_res = layer(x)\n",
        "     x = x + x_res\n",
        "   x2 = x\n",
        "   x = self.conv_4(x)\n",
        "   \n",
        "   for layer in self.residual_block_5:\n",
        "     x_res = layer(x)\n",
        "     x = x + x_res\n",
        "   \n",
        "   for layer in self.conv_block:\n",
        "     x = layer(x)\n",
        "   \n",
        "   scale3_result = self.scale3_output(x)\n",
        "   \n",
        "   scale2_up = self.upsample(self.scale2_upsample(x))\n",
        "   x = torch.cat([x2 , scale2_up],dim = 1)\n",
        "\n",
        "   for layer in self.scale2_convblock :\n",
        "     x = layer(x)\n",
        "\n",
        "   x2 = x\n",
        "   scale2_result = self.scale2_output(x)\n",
        "\n",
        "   scale1_up = self.upsample(self.scale1_upsample(x2))\n",
        "\n",
        "   x = torch.cat([x1 , scale1_up],dim = 1)\n",
        "   for layer in self.scale1_convblock :\n",
        "     x = layer(x)\n",
        "   scale1_result = self.scale1_output(x)\n",
        "\n",
        "   return  scale3_result , scale2_result , scale1_result "
      ],
      "metadata": {
        "id": "euE74jvBN571"
      },
      "execution_count": null,
      "outputs": []
    },
    {
      "cell_type": "code",
      "source": [
        "model = YOLOv3()\n",
        "with torch.no_grad():\n",
        "  output = model(torch.zeros((1,3,416,416)))\n",
        "for i in range(3):\n",
        "  print(output[i].shape)\n",
        "\n",
        "#torch.Size([1, 255, 13, 13])\n",
        "#torch.Size([1, 255, 26, 26])\n",
        "#torch.Size([1, 255, 52, 52])"
      ],
      "metadata": {
        "colab": {
          "base_uri": "https://localhost:8080/"
        },
        "id": "pEbcGN75jRrK",
        "outputId": "206822d9-a7e8-4816-9ab1-1db4a8985117"
      },
      "execution_count": null,
      "outputs": [
        {
          "output_type": "stream",
          "name": "stdout",
          "text": [
            "torch.Size([1, 255, 13, 13])\n",
            "torch.Size([1, 255, 26, 26])\n",
            "torch.Size([1, 255, 52, 52])\n"
          ]
        }
      ]
    },
    {
      "cell_type": "code",
      "source": [],
      "metadata": {
        "id": "pbZnswlHjUTw"
      },
      "execution_count": null,
      "outputs": []
    }
  ]
}