{
  "nbformat": 4,
  "nbformat_minor": 0,
  "metadata": {
    "colab": {
      "provenance": [],
      "authorship_tag": "ABX9TyP0v/x+jVgsyNvwy2gC5mDr",
      "include_colab_link": true
    },
    "kernelspec": {
      "name": "python3",
      "display_name": "Python 3"
    },
    "language_info": {
      "name": "python"
    }
  },
  "cells": [
    {
      "cell_type": "markdown",
      "metadata": {
        "id": "view-in-github",
        "colab_type": "text"
      },
      "source": [
        "<a href=\"https://colab.research.google.com/github/Wadaken43/DeepLearning/blob/main/ResNet_sanko.ipynb\" target=\"_parent\"><img src=\"https://colab.research.google.com/assets/colab-badge.svg\" alt=\"Open In Colab\"/></a>"
      ]
    },
    {
      "cell_type": "code",
      "execution_count": 1,
      "metadata": {
        "id": "Ef5DOIQoAnnj"
      },
      "outputs": [],
      "source": [
        "import torch\n",
        "import torch.nn as nn"
      ]
    },
    {
      "cell_type": "code",
      "source": [
        "#残差ブロックを作成するクラス\n",
        "class Resblock(nn.Module):\n",
        "  def __init__(self, in_channels, out_channels, identity_downsample=None, stride=1):\n",
        "    super(Resblock, self).__init__()\n",
        "\n",
        "    self.expansion = 4\n",
        "    \n",
        "    self.conv1 = nn.Conv2d(in_channels, out_channels, kernel_size=1, stride=1, padding=0)\n",
        "    self.bn1 = nn.BatchNorm2d(out_channels)\n",
        "    self.conv2 = nn.Conv2d(out_channels, out_channels, kernel_size=3, stride=stride, padding=1)\n",
        "    self.bn2 = nn.BatchNorm2d(out_channels)\n",
        "    self.conv3 = nn.Conv2d(out_channels, out_channels*self.expansion, kernel_size=1, stride=1, padding=0)\n",
        "    self.bn3 = nn.BatchNorm2d(out_channels*self.expansion)\n",
        "\n",
        "    self.identity_downsample = identity_downsample\n",
        "    self.relu = nn.ReLU()\n",
        "  \n",
        "  def forward(self, x):\n",
        "    identity = x.clone()\n",
        "\n",
        "    x = self.conv1(x)\n",
        "    x = self.bn1(x)\n",
        "    x = self.relu(x)\n",
        "    x = self.conv2(x)\n",
        "    x = self.bn2(x)\n",
        "    x = self.relu(x)\n",
        "    x = self.conv3(x)\n",
        "    x = self.bn3(x)\n",
        "\n",
        "    if self.identity_downsample is not None:\n",
        "      identity = self.identity_downsample(identity)\n",
        "    x = x + identity\n",
        "    \n",
        "    x = self.relu(x)\n",
        "\n",
        "    return x\n"
      ],
      "metadata": {
        "id": "Cf0aNUo0A8Cn"
      },
      "execution_count": 2,
      "outputs": []
    },
    {
      "cell_type": "code",
      "source": [
        "class ResNet(nn.Module):\n",
        "  def __init__(self, block, layers, num_classes):\n",
        "    super(ResNet, self).__init__()\n",
        "    \n",
        "    self.in_channels = 64\n",
        "    self.conv1 = nn.Conv2d(3, 64, kernel_size=7, stride=2,padding=3)\n",
        "    self.bn1 = nn.BatchNorm2d(64)\n",
        "    self.relu = nn.ReLU()\n",
        "    self.maxpool = nn.MaxPool2d(kernel_size=3, stride=2)\n",
        "\n",
        "    self.conv2_x = self._make_layer(block, layers[0], first_conv_out_channels=64, stride=1)\n",
        "    self.conv3_x = self._make_layer(block, layers[1], first_conv_out_channels=128, stride=2)\n",
        "    self.conv4_x = self._make_layer(block, layers[2], first_conv_out_channels=256,stride=2)\n",
        "    self.conv5_x = self._make_layer(block, layers[3], first_conv_out_channels=512, stride=2)\n",
        "\n",
        "    self.avgpool = nn.AdaptiveAvgPool2d((1,1))\n",
        "    self.fc = nn.Linear(512*4, num_classes)\n",
        "  \n",
        "\n",
        "  def forward(self, x):\n",
        "\n",
        "    x = self.conv1(x)\n",
        "    x = self.bn1(x)\n",
        "    x = self.relu(x)\n",
        "    x = self.maxpool(x)\n",
        "\n",
        "    x = self.conv2_x(x)\n",
        "    x = self.conv3_x(x)\n",
        "    x = self.conv4_x(x)\n",
        "    x = self.conv5_x(x)\n",
        "    x = self.avgpool(x)\n",
        "    x = x.reshape(x.shape[0], -1)\n",
        "    x = self.fc(x)\n",
        "\n",
        "    return x\n",
        "\n",
        "    # 例 conv2_x のチャネル数の変化\n",
        "    # in : 64\n",
        "    # block(in_channels=64, first_conv_out_channels=64) out : 256\n",
        "    # block(in_channels=256, first_conv_out_channels=64) out : 256\n",
        "    # block(in_channels=256, first_conv_out_channels=64) out : 256\n",
        "    # out : 256\n",
        "\n",
        "  def _make_layer(self, block, num_resblocks, first_conv_out_channels, stride):\n",
        "    identity_downsample = None\n",
        "    layers = []\n",
        "\n",
        "    # size 変更したいあるいは\n",
        "    # チャネル数の変更が起こる場合残差接続でサイズとチャネル数が一致しなくなってしまうため\n",
        "    # identity に conv層 を追加する。\n",
        "    if stride != 1 or self.in_channels != first_conv_out_channels*4:\n",
        "      identity_downsample = nn.Conv2d(self.in_channels, first_conv_out_channels*4, kernel_size=1, stride=stride)\n",
        "    layers.append(block(self.in_channels, first_conv_out_channels, identity_downsample, stride))\n",
        "\n",
        "    # 二つ目以降の残差ブロックでは常に、残差ブロックの入力チャネル数 in_channels が\n",
        "    # その最初のconv層の出力チャネル数 first_conv_out_channels の4倍になっていることに注意\n",
        "    self.in_channels = first_conv_out_channels*4\n",
        "\n",
        "    for i in range(num_resblocks - 1):\n",
        "      layers.append(block(self.in_channels, first_conv_out_channels))\n",
        "    \n",
        "    return nn.Sequential(*layers)\n",
        "\n",
        "def get_ResNet50(block, num_classes):\n",
        "  return ResNet(block, [3,4,6,3], num_classes)\n",
        "\n",
        "def get_ResNet101(block, num_classes):\n",
        "  return ResNet(block, [3,4,23,3], num_classes)\n",
        "\n",
        "def get_ResNet152(block, num_classes):\n",
        "  return ResNet(block, [3,8,36,3], num_classes)\n"
      ],
      "metadata": {
        "id": "6w17av_TBIhf"
      },
      "execution_count": 3,
      "outputs": []
    },
    {
      "cell_type": "code",
      "source": [
        "def main():\n",
        "  net = get_ResNet152(Resblock, 1000)\n",
        "  y = net(torch.randn(10, 3, 224, 224))\n",
        "  print(y.size())\n",
        "main()"
      ],
      "metadata": {
        "colab": {
          "base_uri": "https://localhost:8080/"
        },
        "id": "7GFVb5qeBg8j",
        "outputId": "f0e37cd5-6e02-4ced-a026-5b2b46eede3b"
      },
      "execution_count": 4,
      "outputs": [
        {
          "output_type": "stream",
          "name": "stdout",
          "text": [
            "torch.Size([10, 1000])\n"
          ]
        }
      ]
    }
  ]
}