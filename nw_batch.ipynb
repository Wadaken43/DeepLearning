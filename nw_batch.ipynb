{
  "nbformat": 4,
  "nbformat_minor": 0,
  "metadata": {
    "colab": {
      "provenance": [],
      "authorship_tag": "ABX9TyPy+iZt5OfA3yEV0I85PKDL",
      "include_colab_link": true
    },
    "kernelspec": {
      "name": "python3",
      "display_name": "Python 3"
    },
    "language_info": {
      "name": "python"
    }
  },
  "cells": [
    {
      "cell_type": "markdown",
      "metadata": {
        "id": "view-in-github",
        "colab_type": "text"
      },
      "source": [
        "<a href=\"https://colab.research.google.com/github/Wadaken43/DeepLearning/blob/main/nw_batch.ipynb\" target=\"_parent\"><img src=\"https://colab.research.google.com/assets/colab-badge.svg\" alt=\"Open In Colab\"/></a>"
      ]
    },
    {
      "cell_type": "code",
      "execution_count": 3,
      "metadata": {
        "id": "HDB-ooBhQe1Q"
      },
      "outputs": [],
      "source": [
        "import torch\n",
        "from sklearn.datasets import load_digits\n",
        "from torch.utils.data import DataLoader, TensorDataset\n",
        "\n",
        "digits = load_digits()\n",
        "X = digits.data\n",
        "Y = digits.target\n",
        "\n",
        "X = torch.tensor(X, dtype=torch.float32)\n",
        "Y = torch.tensor(Y, dtype=torch.int64)\n",
        "dataset = TensorDataset(X,Y)\n",
        "dataloader = DataLoader(dataset, batch_size=64, shuffle=False)"
      ]
    },
    {
      "cell_type": "markdown",
      "source": [
        "学習時の処理"
      ],
      "metadata": {
        "id": "wAPIG_R_SjG8"
      }
    },
    {
      "cell_type": "code",
      "source": [
        "def train_1epoch(model, train_loader, lossfun, optimizer, device):\n",
        "  model.train()\n",
        "  total_loss, total_acc = 0.0, 0.0\n",
        "\n",
        "  for x, y in tqdm(train_loader):\n",
        "    x = x.to(device)\n",
        "    y = y.to(device)\n",
        "\n",
        "    optimizer.zero_grad()\n",
        "    #yの予測値を算出\n",
        "    out = model(x)\n",
        "\n",
        "    #損失を計算\n",
        "    loss = lossfun(out, y)\n",
        "    loss.backward()\n",
        "\n",
        "    #勾配を更新\n",
        "    optimizer.step()\n",
        "\n",
        "    #バッチ単位の損失を計算\n",
        "    total_loss += loss.time()*x.size(0)\n",
        "\n",
        "    #バッチ単位の正答率を計算\n",
        "    _,pred = torch.max(out,1)\n",
        "    total_acc +=torch.sum(pred == y.data)\n",
        "\n",
        "  avg_loss = total_loss / len(train_loader.dataset)\n",
        "  avg_acc = total_acc / len(train_loader.dataset)\n",
        "  return avg_acc, avg_loss\n"
      ],
      "metadata": {
        "id": "SHdvNzbuSL1q"
      },
      "execution_count": 4,
      "outputs": []
    },
    {
      "cell_type": "code",
      "source": [],
      "metadata": {
        "id": "SySXODOFWgxy"
      },
      "execution_count": null,
      "outputs": []
    }
  ]
}