{
  "nbformat": 4,
  "nbformat_minor": 0,
  "metadata": {
    "colab": {
      "provenance": [],
      "authorship_tag": "ABX9TyOlGagQ+0nXRYU04cI9vBfs",
      "include_colab_link": true
    },
    "kernelspec": {
      "name": "python3",
      "display_name": "Python 3"
    },
    "language_info": {
      "name": "python"
    }
  },
  "cells": [
    {
      "cell_type": "markdown",
      "metadata": {
        "id": "view-in-github",
        "colab_type": "text"
      },
      "source": [
        "<a href=\"https://colab.research.google.com/github/Wadaken43/DeepLearning/blob/main/nw_batch.ipynb\" target=\"_parent\"><img src=\"https://colab.research.google.com/assets/colab-badge.svg\" alt=\"Open In Colab\"/></a>"
      ]
    },
    {
      "cell_type": "code",
      "execution_count": 5,
      "metadata": {
        "id": "HDB-ooBhQe1Q"
      },
      "outputs": [],
      "source": [
        "import torch\n",
        "from sklearn.datasets import load_digits\n",
        "from torch.utils.data import DataLoader, TensorDataset\n",
        "from tqdm import tqdm\n",
        "\n",
        "digits = load_digits()\n",
        "X = digits.data\n",
        "Y = digits.target\n",
        "\n",
        "X = torch.tensor(X, dtype=torch.float32)\n",
        "Y = torch.tensor(Y, dtype=torch.int64)\n",
        "dataset = TensorDataset(X,Y)\n",
        "dataloader = DataLoader(dataset, batch_size=64, shuffle=False)"
      ]
    },
    {
      "cell_type": "markdown",
      "source": [
        "学習時の処理"
      ],
      "metadata": {
        "id": "wAPIG_R_SjG8"
      }
    },
    {
      "cell_type": "code",
      "source": [
        "def train_1epoch(model, train_loader, lossfun, optimizer, device):\n",
        "  model.train()\n",
        "  total_loss, total_acc = 0.0, 0.0\n",
        "\n",
        "  for x, y in tqdm(train_loader):\n",
        "    x = x.to(device)\n",
        "    y = y.to(device)\n",
        "\n",
        "    optimizer.zero_grad()\n",
        "    #yの予測値を算出\n",
        "    out = model(x)\n",
        "\n",
        "    #損失を計算\n",
        "    loss = lossfun(out, y)\n",
        "    loss.backward()\n",
        "\n",
        "    #勾配を更新\n",
        "    optimizer.step()\n",
        "\n",
        "    #バッチ単位の損失を計算\n",
        "    total_loss += loss.time()*x.size(0)\n",
        "\n",
        "    #バッチ単位の正答率を計算\n",
        "    _,pred = torch.max(out,1)\n",
        "    total_acc +=torch.sum(pred == y.data)\n",
        "\n",
        "  avg_loss = total_loss / len(train_loader.dataset)\n",
        "  avg_acc = total_acc / len(train_loader.dataset)\n",
        "  return avg_acc, avg_loss\n"
      ],
      "metadata": {
        "id": "SHdvNzbuSL1q"
      },
      "execution_count": 6,
      "outputs": []
    },
    {
      "cell_type": "code",
      "source": [
        "#tqdmについて\n",
        "import time\n",
        "for i in range(10):\n",
        "  time.sleep(0.5)\n",
        "  print(i)"
      ],
      "metadata": {
        "colab": {
          "base_uri": "https://localhost:8080/"
        },
        "id": "SySXODOFWgxy",
        "outputId": "bc8eea67-02ca-4262-f5b8-ab254f52a6c5"
      },
      "execution_count": 8,
      "outputs": [
        {
          "output_type": "stream",
          "name": "stdout",
          "text": [
            "0\n",
            "1\n",
            "2\n",
            "3\n",
            "4\n",
            "5\n",
            "6\n",
            "7\n",
            "8\n",
            "9\n"
          ]
        }
      ]
    },
    {
      "cell_type": "code",
      "source": [
        "for i in tqdm(range(10)):\n",
        "  time.sleep(0.5)"
      ],
      "metadata": {
        "colab": {
          "base_uri": "https://localhost:8080/"
        },
        "id": "68JqPaaUYmti",
        "outputId": "e924d3f9-0254-4e58-fd9b-e407b679fcfe"
      },
      "execution_count": 9,
      "outputs": [
        {
          "output_type": "stream",
          "name": "stderr",
          "text": [
            "100%|██████████| 10/10 [00:05<00:00,  1.99it/s]\n"
          ]
        }
      ]
    },
    {
      "cell_type": "code",
      "source": [],
      "metadata": {
        "id": "CCwyolu_Y1YN"
      },
      "execution_count": null,
      "outputs": []
    }
  ]
}